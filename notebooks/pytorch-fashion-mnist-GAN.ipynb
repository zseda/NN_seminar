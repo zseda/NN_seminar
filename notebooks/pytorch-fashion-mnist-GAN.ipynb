{
 "cells": [
  {
   "cell_type": "code",
   "execution_count": 15,
   "metadata": {},
   "outputs": [],
   "source": [
    "# prerequisites\n",
    "import torch\n",
    "import torch.nn as nn\n",
    "import torch.nn.functional as F\n",
    "import torch.optim as optim\n",
    "from torchvision import datasets, transforms\n",
    "from torch.autograd import Variable \n",
    "from torchvision .utils import save_image\n",
    "\n",
    "# Device configuration\n",
    "device = torch.device('cuda' if torch.cuda.is_available() else 'cpu')"
   ]
  },
  {
   "cell_type": "code",
   "execution_count": 16,
   "metadata": {},
   "outputs": [],
   "source": [
    "bs = 100\n",
    "\n",
    "# MNIST Dataset\n",
    "transform = transforms.Compose([\n",
    "    transforms.ToTensor(),\n",
    "    transforms.Normalize([0.5], [0.5])])\n",
    "\n",
    "train_dataset = datasets.FashionMNIST(root='./fashion_mnist_data/', train=True, transform=transform, download=True)\n",
    "test_dataset = datasets.FashionMNIST(root='./fashion_mnist_data/', train=False, transform=transform, download=False)\n",
    "\n",
    "# Data Loader (Input Pipeline)\n",
    "train_loader = torch.utils.data.DataLoader(dataset=train_dataset, batch_size=bs, shuffle=True)\n",
    "test_loader = torch.utils.data.DataLoader(dataset=test_dataset, batch_size=bs, shuffle=False)"
   ]
  },
  {
   "cell_type": "code",
   "execution_count": 17,
   "metadata": {},
   "outputs": [],
   "source": [
    "class Generator(nn.Module):\n",
    "    def __init__(self, g_input_dim, g_output_dim):\n",
    "        super(Generator, self).__init__()       \n",
    "        self.fc1 = nn.Linear(g_input_dim, 256)\n",
    "        self.fc2 = nn.Linear(self.fc1.out_features, self.fc1.out_features*2)\n",
    "        self.fc3 = nn.Linear(self.fc2.out_features, self.fc2.out_features*2)\n",
    "        self.fc4 = nn.Linear(self.fc3.out_features, g_output_dim)\n",
    "    \n",
    "    # forward method\n",
    "    def forward(self, x): \n",
    "        x = F.leaky_relu(self.fc1(x), 0.2)\n",
    "        x = F.leaky_relu(self.fc2(x), 0.2)\n",
    "        x = F.leaky_relu(self.fc3(x), 0.2)\n",
    "        return torch.tanh(self.fc4(x))\n",
    "    \n",
    "class Discriminator(nn.Module):\n",
    "    def __init__(self, d_input_dim):\n",
    "        super(Discriminator, self).__init__()\n",
    "        self.fc1 = nn.Linear(d_input_dim, 1024)\n",
    "        self.fc2 = nn.Linear(self.fc1.out_features, self.fc1.out_features//2)\n",
    "        self.fc3 = nn.Linear(self.fc2.out_features, self.fc2.out_features//2)\n",
    "        self.fc4 = nn.Linear(self.fc3.out_features, 1)\n",
    "    \n",
    "    # forward method\n",
    "    def forward(self, x):\n",
    "        x = F.leaky_relu(self.fc1(x), 0.2)\n",
    "        x = F.dropout(x, 0.3)\n",
    "        x = F.leaky_relu(self.fc2(x), 0.2)\n",
    "        x = F.dropout(x, 0.3)\n",
    "        x = F.leaky_relu(self.fc3(x), 0.2)\n",
    "        x = F.dropout(x, 0.3)\n",
    "        return torch.sigmoid(self.fc4(x))"
   ]
  },
  {
   "cell_type": "code",
   "execution_count": 18,
   "metadata": {},
   "outputs": [
    {
     "name": "stderr",
     "output_type": "stream",
     "text": [
      "/home/zeynepseda/anaconda3/envs/torch/lib/python3.9/site-packages/torchvision/datasets/mnist.py:75: UserWarning: train_data has been renamed data\n",
      "  warnings.warn(\"train_data has been renamed data\")\n"
     ]
    }
   ],
   "source": [
    "# build network\n",
    "z_dim = 100\n",
    "mnist_dim = train_dataset.train_data.size(1) * train_dataset.train_data.size(2)\n",
    "\n",
    "G = Generator(g_input_dim = z_dim, g_output_dim = mnist_dim).to(device)\n",
    "D = Discriminator(mnist_dim).to(device)"
   ]
  },
  {
   "cell_type": "code",
   "execution_count": 19,
   "metadata": {},
   "outputs": [
    {
     "data": {
      "text/plain": [
       "Generator(\n",
       "  (fc1): Linear(in_features=100, out_features=256, bias=True)\n",
       "  (fc2): Linear(in_features=256, out_features=512, bias=True)\n",
       "  (fc3): Linear(in_features=512, out_features=1024, bias=True)\n",
       "  (fc4): Linear(in_features=1024, out_features=784, bias=True)\n",
       ")"
      ]
     },
     "execution_count": 19,
     "metadata": {},
     "output_type": "execute_result"
    }
   ],
   "source": [
    "G"
   ]
  },
  {
   "cell_type": "code",
   "execution_count": 20,
   "metadata": {},
   "outputs": [
    {
     "data": {
      "text/plain": [
       "Discriminator(\n",
       "  (fc1): Linear(in_features=784, out_features=1024, bias=True)\n",
       "  (fc2): Linear(in_features=1024, out_features=512, bias=True)\n",
       "  (fc3): Linear(in_features=512, out_features=256, bias=True)\n",
       "  (fc4): Linear(in_features=256, out_features=1, bias=True)\n",
       ")"
      ]
     },
     "execution_count": 20,
     "metadata": {},
     "output_type": "execute_result"
    }
   ],
   "source": [
    "D"
   ]
  },
  {
   "cell_type": "code",
   "execution_count": 21,
   "metadata": {},
   "outputs": [],
   "source": [
    "# loss\n",
    "criterion = nn.BCELoss() \n",
    "\n",
    "# optimizer\n",
    "lr = 0.0002 \n",
    "G_optimizer = optim.Adam(G.parameters(), lr = lr)\n",
    "D_optimizer = optim.Adam(D.parameters(), lr = lr)"
   ]
  },
  {
   "cell_type": "code",
   "execution_count": 22,
   "metadata": {},
   "outputs": [],
   "source": [
    "def D_train(x):\n",
    "    #=======================Train the discriminator=======================#\n",
    "    D.zero_grad()\n",
    "\n",
    "    # train discriminator on real\n",
    "    x_real, y_real = x.view(-1, mnist_dim), torch.ones(bs, 1)\n",
    "    x_real, y_real = Variable(x_real.to(device)), Variable(y_real.to(device))\n",
    "\n",
    "    D_output = D(x_real)\n",
    "    D_real_loss = criterion(D_output, y_real)\n",
    "    D_real_score = D_output\n",
    "\n",
    "    # train discriminator on facke\n",
    "    z = Variable(torch.randn(bs, z_dim).to(device))\n",
    "    x_fake, y_fake = G(z), Variable(torch.zeros(bs, 1).to(device))\n",
    "\n",
    "    D_output = D(x_fake)\n",
    "    D_fake_loss = criterion(D_output, y_fake)\n",
    "    D_fake_score = D_output\n",
    "\n",
    "    # gradient backprop & optimize ONLY D's parameters\n",
    "    D_loss = D_real_loss + D_fake_loss\n",
    "    D_loss.backward()\n",
    "    D_optimizer.step()\n",
    "        \n",
    "    return  D_loss.data.item()"
   ]
  },
  {
   "cell_type": "code",
   "execution_count": 23,
   "metadata": {},
   "outputs": [],
   "source": [
    "def G_train(x):\n",
    "    #=======================Train the generator=======================#\n",
    "    G.zero_grad()\n",
    "\n",
    "    z = Variable(torch.randn(bs, z_dim).to(device))\n",
    "    y = Variable(torch.ones(bs, 1).to(device))\n",
    "\n",
    "    G_output = G(z)\n",
    "    D_output = D(G_output)\n",
    "    G_loss = criterion(D_output, y)\n",
    "\n",
    "    # gradient backprop & optimize ONLY G's parameters\n",
    "    G_loss.backward()\n",
    "    G_optimizer.step()\n",
    "        \n",
    "    return G_loss.data.item()"
   ]
  },
  {
   "cell_type": "code",
   "execution_count": 25,
   "metadata": {
    "scrolled": true
   },
   "outputs": [
    {
     "name": "stdout",
     "output_type": "stream",
     "text": [
      "[1/100]: loss_d: 0.637, loss_g: 3.979\n",
      "[2/100]: loss_d: 0.524, loss_g: 3.120\n",
      "[3/100]: loss_d: 0.448, loss_g: 3.410\n",
      "[4/100]: loss_d: 0.427, loss_g: 3.406\n",
      "[5/100]: loss_d: 0.530, loss_g: 2.870\n",
      "[6/100]: loss_d: 0.561, loss_g: 2.614\n",
      "[7/100]: loss_d: 0.648, loss_g: 2.314\n",
      "[8/100]: loss_d: 0.660, loss_g: 2.235\n",
      "[9/100]: loss_d: 0.690, loss_g: 2.214\n",
      "[10/100]: loss_d: 0.768, loss_g: 1.928\n",
      "[11/100]: loss_d: 0.811, loss_g: 1.796\n",
      "[12/100]: loss_d: 0.849, loss_g: 1.754\n",
      "[13/100]: loss_d: 0.862, loss_g: 1.751\n",
      "[14/100]: loss_d: 0.855, loss_g: 1.687\n",
      "[15/100]: loss_d: 0.889, loss_g: 1.629\n",
      "[16/100]: loss_d: 0.901, loss_g: 1.611\n",
      "[17/100]: loss_d: 0.930, loss_g: 1.527\n",
      "[18/100]: loss_d: 0.940, loss_g: 1.473\n",
      "[19/100]: loss_d: 0.973, loss_g: 1.441\n",
      "[20/100]: loss_d: 0.965, loss_g: 1.464\n",
      "[21/100]: loss_d: 0.960, loss_g: 1.444\n",
      "[22/100]: loss_d: 0.985, loss_g: 1.395\n",
      "[23/100]: loss_d: 0.965, loss_g: 1.438\n",
      "[24/100]: loss_d: 0.941, loss_g: 1.485\n",
      "[25/100]: loss_d: 0.979, loss_g: 1.409\n",
      "[26/100]: loss_d: 0.987, loss_g: 1.389\n",
      "[27/100]: loss_d: 0.977, loss_g: 1.458\n",
      "[28/100]: loss_d: 0.971, loss_g: 1.404\n",
      "[29/100]: loss_d: 0.988, loss_g: 1.386\n",
      "[30/100]: loss_d: 0.972, loss_g: 1.410\n",
      "[31/100]: loss_d: 0.973, loss_g: 1.404\n",
      "[32/100]: loss_d: 0.982, loss_g: 1.380\n",
      "[33/100]: loss_d: 1.000, loss_g: 1.348\n",
      "[34/100]: loss_d: 0.982, loss_g: 1.386\n",
      "[35/100]: loss_d: 1.003, loss_g: 1.353\n",
      "[36/100]: loss_d: 1.007, loss_g: 1.318\n",
      "[37/100]: loss_d: 1.059, loss_g: 1.237\n",
      "[38/100]: loss_d: 1.051, loss_g: 1.246\n",
      "[39/100]: loss_d: 1.058, loss_g: 1.234\n",
      "[40/100]: loss_d: 1.051, loss_g: 1.245\n",
      "[41/100]: loss_d: 1.070, loss_g: 1.220\n",
      "[42/100]: loss_d: 1.059, loss_g: 1.227\n",
      "[43/100]: loss_d: 1.066, loss_g: 1.237\n",
      "[44/100]: loss_d: 1.069, loss_g: 1.228\n",
      "[45/100]: loss_d: 1.068, loss_g: 1.211\n",
      "[46/100]: loss_d: 1.072, loss_g: 1.238\n",
      "[47/100]: loss_d: 1.053, loss_g: 1.267\n",
      "[48/100]: loss_d: 1.054, loss_g: 1.274\n",
      "[49/100]: loss_d: 1.051, loss_g: 1.267\n",
      "[50/100]: loss_d: 1.067, loss_g: 1.233\n",
      "[51/100]: loss_d: 1.057, loss_g: 1.254\n",
      "[52/100]: loss_d: 1.063, loss_g: 1.206\n",
      "[53/100]: loss_d: 1.088, loss_g: 1.198\n",
      "[54/100]: loss_d: 1.077, loss_g: 1.192\n",
      "[55/100]: loss_d: 1.096, loss_g: 1.182\n",
      "[56/100]: loss_d: 1.077, loss_g: 1.214\n",
      "[57/100]: loss_d: 1.075, loss_g: 1.236\n",
      "[58/100]: loss_d: 1.051, loss_g: 1.223\n",
      "[59/100]: loss_d: 1.076, loss_g: 1.204\n",
      "[60/100]: loss_d: 1.073, loss_g: 1.220\n",
      "[61/100]: loss_d: 1.059, loss_g: 1.222\n",
      "[62/100]: loss_d: 1.076, loss_g: 1.207\n",
      "[63/100]: loss_d: 1.081, loss_g: 1.202\n",
      "[64/100]: loss_d: 1.082, loss_g: 1.194\n",
      "[65/100]: loss_d: 1.108, loss_g: 1.144\n",
      "[66/100]: loss_d: 1.104, loss_g: 1.176\n",
      "[67/100]: loss_d: 1.099, loss_g: 1.184\n",
      "[68/100]: loss_d: 1.084, loss_g: 1.224\n",
      "[69/100]: loss_d: 1.089, loss_g: 1.214\n",
      "[70/100]: loss_d: 1.104, loss_g: 1.150\n",
      "[71/100]: loss_d: 1.098, loss_g: 1.154\n",
      "[72/100]: loss_d: 1.099, loss_g: 1.189\n",
      "[73/100]: loss_d: 1.102, loss_g: 1.162\n",
      "[74/100]: loss_d: 1.078, loss_g: 1.231\n",
      "[75/100]: loss_d: 1.097, loss_g: 1.181\n",
      "[76/100]: loss_d: 1.099, loss_g: 1.193\n",
      "[77/100]: loss_d: 1.105, loss_g: 1.152\n",
      "[78/100]: loss_d: 1.117, loss_g: 1.153\n",
      "[79/100]: loss_d: 1.101, loss_g: 1.162\n",
      "[80/100]: loss_d: 1.140, loss_g: 1.105\n",
      "[81/100]: loss_d: 1.138, loss_g: 1.122\n",
      "[82/100]: loss_d: 1.137, loss_g: 1.108\n",
      "[83/100]: loss_d: 1.130, loss_g: 1.121\n",
      "[84/100]: loss_d: 1.148, loss_g: 1.086\n",
      "[85/100]: loss_d: 1.155, loss_g: 1.078\n",
      "[86/100]: loss_d: 1.144, loss_g: 1.103\n",
      "[87/100]: loss_d: 1.162, loss_g: 1.091\n",
      "[88/100]: loss_d: 1.153, loss_g: 1.090\n",
      "[89/100]: loss_d: 1.154, loss_g: 1.101\n",
      "[90/100]: loss_d: 1.152, loss_g: 1.109\n",
      "[91/100]: loss_d: 1.153, loss_g: 1.079\n",
      "[92/100]: loss_d: 1.178, loss_g: 1.048\n",
      "[93/100]: loss_d: 1.168, loss_g: 1.078\n",
      "[94/100]: loss_d: 1.173, loss_g: 1.087\n",
      "[95/100]: loss_d: 1.172, loss_g: 1.071\n",
      "[96/100]: loss_d: 1.157, loss_g: 1.085\n",
      "[97/100]: loss_d: 1.160, loss_g: 1.066\n",
      "[98/100]: loss_d: 1.165, loss_g: 1.087\n",
      "[99/100]: loss_d: 1.163, loss_g: 1.077\n",
      "[100/100]: loss_d: 1.180, loss_g: 1.043\n"
     ]
    }
   ],
   "source": [
    "n_epoch = 100\n",
    "for epoch in range(1, n_epoch+1):           \n",
    "    D_losses, G_losses = [], []\n",
    "    for batch_idx, (x, _) in enumerate(train_loader):\n",
    "        D_losses.append(D_train(x))\n",
    "        G_losses.append(G_train(x))\n",
    "\n",
    "    print('[%d/%d]: loss_d: %.3f, loss_g: %.3f' % (\n",
    "            (epoch), n_epoch, torch.mean(torch.FloatTensor(D_losses)), torch.mean(torch.FloatTensor(G_losses))))"
   ]
  },
  {
   "cell_type": "code",
   "execution_count": 2,
   "metadata": {},
   "outputs": [
    {
     "ename": "NameError",
     "evalue": "name 'torch' is not defined",
     "output_type": "error",
     "traceback": [
      "\u001b[0;31m---------------------------------------------------------------------------\u001b[0m",
      "\u001b[0;31mNameError\u001b[0m                                 Traceback (most recent call last)",
      "\u001b[1;32m/home/zeynepseda/repos/nn_seminar/pytorch-fashion-mnist-GAN.ipynb Cell 11'\u001b[0m in \u001b[0;36m<cell line: 1>\u001b[0;34m()\u001b[0m\n\u001b[0;32m----> <a href='vscode-notebook-cell:/home/zeynepseda/repos/nn_seminar/pytorch-fashion-mnist-GAN.ipynb#ch0000010?line=0'>1</a>\u001b[0m \u001b[39mwith\u001b[39;00m torch\u001b[39m.\u001b[39mno_grad():\n\u001b[1;32m      <a href='vscode-notebook-cell:/home/zeynepseda/repos/nn_seminar/pytorch-fashion-mnist-GAN.ipynb#ch0000010?line=1'>2</a>\u001b[0m     test_z \u001b[39m=\u001b[39m Variable(torch\u001b[39m.\u001b[39mrandn(bs, z_dim)\u001b[39m.\u001b[39mto(device))\n\u001b[1;32m      <a href='vscode-notebook-cell:/home/zeynepseda/repos/nn_seminar/pytorch-fashion-mnist-GAN.ipynb#ch0000010?line=2'>3</a>\u001b[0m     generated \u001b[39m=\u001b[39m G(test_z)\n",
      "\u001b[0;31mNameError\u001b[0m: name 'torch' is not defined"
     ]
    }
   ],
   "source": [
    "with torch.no_grad():\n",
    "    test_z = Variable(torch.randn(bs, z_dim).to(device))\n",
    "    generated = G(test_z)\n",
    "\n",
    "    save_image(generated.view(generated.size(0), 1, 28, 28), './samples/fashion_sample_1' + '.png')"
   ]
  }
 ],
 "metadata": {
  "interpreter": {
   "hash": "111c255b60410ab8d80b11f6404780fb1b77390902aee2581b4ef319d61a5a3a"
  },
  "kernelspec": {
   "display_name": "Python 3.9.12 ('torch')",
   "language": "python",
   "name": "python3"
  },
  "language_info": {
   "codemirror_mode": {
    "name": "ipython",
    "version": 3
   },
   "file_extension": ".py",
   "mimetype": "text/x-python",
   "name": "python",
   "nbconvert_exporter": "python",
   "pygments_lexer": "ipython3",
   "version": "3.9.7"
  }
 },
 "nbformat": 4,
 "nbformat_minor": 2
}
